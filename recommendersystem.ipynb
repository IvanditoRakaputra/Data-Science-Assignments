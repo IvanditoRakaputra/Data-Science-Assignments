{
 "cells": [
  {
   "cell_type": "markdown",
   "metadata": {},
   "source": [
    "# USER BASED RECOMMENDER SYSTEM"
   ]
  },
  {
   "cell_type": "markdown",
   "metadata": {},
   "source": [
    "Steps in a user-based recommendation system:\n",
    "\n",
    "1. Select a user with the movies the user has watched\n",
    "2. Based on his rating to movies, find the top x neighbours\n",
    "3. Get the watched movie record of the user for each neighbour.\n",
    "4. Calculate a similarity score using some formula\n",
    "5. Recommend the items with the highest score"
   ]
  },
  {
   "cell_type": "code",
   "execution_count": 1,
   "metadata": {},
   "outputs": [],
   "source": [
    "import pandas as pd\n",
    "import numpy as np\n",
    "from math import sqrt"
   ]
  },
  {
   "cell_type": "markdown",
   "metadata": {},
   "source": [
    "# Movie Lens - Movie Recommendation Data Sets\n"
   ]
  },
  {
   "cell_type": "code",
   "execution_count": 2,
   "metadata": {},
   "outputs": [
    {
     "name": "stdout",
     "output_type": "stream",
     "text": [
      "<class 'pandas.core.frame.DataFrame'>\n",
      "RangeIndex: 9742 entries, 0 to 9741\n",
      "Data columns (total 3 columns):\n",
      " #   Column   Non-Null Count  Dtype \n",
      "---  ------   --------------  ----- \n",
      " 0   movieId  9742 non-null   int64 \n",
      " 1   title    9742 non-null   object\n",
      " 2   genres   9742 non-null   object\n",
      "dtypes: int64(1), object(2)\n",
      "memory usage: 228.5+ KB\n",
      "None\n"
     ]
    }
   ],
   "source": [
    "movies_df = pd.read_csv('movies.csv')\n",
    "ratings_df = pd.read_csv('ratings.csv')\n",
    "print(movies_df.info())"
   ]
  },
  {
   "cell_type": "code",
   "execution_count": 3,
   "metadata": {},
   "outputs": [
    {
     "name": "stdout",
     "output_type": "stream",
     "text": [
      "                                               title  rating\n",
      "0  City of Lost Children, The (Cité des enfants p...       5\n",
      "1                 Indian in the Cupboard, The (1995)       5\n",
      "2                                  Juror, The (1996)       5\n",
      "3                                Broken Arrow (1996)       4\n",
      "4                                   Mr. Wrong (1996)       5\n"
     ]
    }
   ],
   "source": [
    "userInput = [{'title':'City of Lost Children, The (Cité des enfants perdus, La) (1995)', 'rating':5},\n",
    "             {'title':'Indian in the Cupboard, The (1995)', 'rating':5},\n",
    "             {'title':'Juror, The (1996)', 'rating':5},\n",
    "             {'title':'Broken Arrow (1996)', 'rating':4},\n",
    "             {'title':'Mr. Wrong (1996)', 'rating':5}]\n",
    "inputMovies = pd.DataFrame(userInput)\n",
    "print(inputMovies)"
   ]
  },
  {
   "cell_type": "code",
   "execution_count": 4,
   "metadata": {},
   "outputs": [
    {
     "name": "stdout",
     "output_type": "stream",
     "text": [
      "   movieId                                              title  \\\n",
      "0       29  City of Lost Children, The (Cité des enfants p...   \n",
      "1       60                 Indian in the Cupboard, The (1995)   \n",
      "2       79                                  Juror, The (1996)   \n",
      "3       95                                Broken Arrow (1996)   \n",
      "4      102                                   Mr. Wrong (1996)   \n",
      "\n",
      "                                   genres  rating  \n",
      "0  Adventure|Drama|Fantasy|Mystery|Sci-Fi       5  \n",
      "1              Adventure|Children|Fantasy       5  \n",
      "2                          Drama|Thriller       5  \n",
      "3               Action|Adventure|Thriller       4  \n",
      "4                                  Comedy       5  \n"
     ]
    }
   ],
   "source": [
    "inputId = movies_df[movies_df['title'].isin(inputMovies['title'].tolist())]\n",
    "inputMovies = pd.merge(inputId, inputMovies)\n",
    "print(inputMovies)"
   ]
  },
  {
   "cell_type": "code",
   "execution_count": 5,
   "metadata": {},
   "outputs": [
    {
     "name": "stdout",
     "output_type": "stream",
     "text": [
      "         userId  rating  timestamp\n",
      "movieId                           \n",
      "29           38      38         38\n",
      "60           34      34         34\n",
      "79           17      17         17\n",
      "95           84      84         84\n",
      "102           5       5          5\n"
     ]
    }
   ],
   "source": [
    "userSubset = ratings_df[ratings_df['movieId'].isin(inputMovies['movieId'].tolist())]\n",
    "print(userSubset.groupby('movieId').count())"
   ]
  },
  {
   "cell_type": "code",
   "execution_count": 6,
   "metadata": {},
   "outputs": [
    {
     "name": "stdout",
     "output_type": "stream",
     "text": [
      "[(43,       userId  movieId  rating  timestamp\n",
      "6323      43       29     5.0  848994937\n",
      "6328      43       60     5.0  848994424\n",
      "6329      43       79     5.0  848994617\n",
      "6330      43       95     4.0  848993983\n",
      "6331      43      102     5.0  848994916), (6,      userId  movieId  rating  timestamp\n",
      "591       6       60     4.0  845554263\n",
      "597       6       79     3.0  845554907\n",
      "604       6       95     4.0  845553559\n",
      "606       6      102     1.0  845555436), (599,        userId  movieId  rating   timestamp\n",
      "92642     599       29     3.5  1498500987\n",
      "92655     599       60     2.0  1519118310\n",
      "92663     599       79     2.0  1519336237\n",
      "92669     599       95     2.0  1498510588), (160,        userId  movieId  rating  timestamp\n",
      "23236     160       60     2.0  971619579\n",
      "23238     160       79     1.0  971196754\n",
      "23241     160       95     1.0  971112529), (274,        userId  movieId  rating   timestamp\n",
      "39241     274       29     4.0  1238050945\n",
      "39248     274       60     3.5  1171827419\n",
      "39257     274       95     2.5  1174524214)]\n"
     ]
    },
    {
     "name": "stderr",
     "output_type": "stream",
     "text": [
      "C:\\Users\\Ivandito\\AppData\\Local\\Temp\\ipykernel_28660\\884132560.py:4: FutureWarning: In a future version of pandas, a length 1 tuple will be returned when iterating over a groupby with a grouper equal to a list of length 1. Don't supply a list with a single grouper to avoid this warning.\n",
      "  userSubsetGroup = sorted(userSubsetGroup, key=take_5_elem, reverse=True)\n"
     ]
    }
   ],
   "source": [
    "userSubsetGroup = userSubset.groupby(['userId'])\n",
    "def take_5_elem(x):\n",
    "    return len(x[1])\n",
    "userSubsetGroup = sorted(userSubsetGroup, key=take_5_elem, reverse=True)\n",
    "userSubsetGroup = userSubsetGroup[0:100]\n",
    "print(userSubsetGroup[0:5])"
   ]
  },
  {
   "cell_type": "code",
   "execution_count": 7,
   "metadata": {},
   "outputs": [],
   "source": [
    "pearsonCorrelationDict = {}\n",
    "for name, group in userSubsetGroup:\n",
    "    group = group.sort_values(by='movieId')\n",
    "    inputMovies = inputMovies.sort_values(by='movieId')\n",
    "    nRatings = len(group)\n",
    "    temp_df = inputMovies[inputMovies['movieId'].isin(group['movieId'].tolist())]\n",
    "    tempRatingList = temp_df['rating'].tolist()\n",
    "    tempGroupList = group['rating'].tolist()\n",
    "    Sxx = sum([i**2 for i in tempRatingList]) - pow(sum(tempRatingList),2)/float(nRatings)\n",
    "    Syy = sum([i**2 for i in tempGroupList]) - pow(sum(tempGroupList),2)/float(nRatings)\n",
    "    Sxy = sum( i*j for i, j in zip(tempRatingList, tempGroupList)) - sum(tempRatingList)*sum(tempGroupList)/float(nRatings)\n",
    "    if Sxx != 0 and Syy != 0:\n",
    "        pearsonCorrelationDict[name] = Sxy/sqrt(Sxx*Syy)\n",
    "    else:\n",
    "        pearsonCorrelationDict[name] = 0"
   ]
  },
  {
   "cell_type": "code",
   "execution_count": 8,
   "metadata": {},
   "outputs": [
    {
     "name": "stdout",
     "output_type": "stream",
     "text": [
      "   similarityIndex  userId\n",
      "0         1.000000      43\n",
      "1        -0.471405       6\n",
      "2         0.333333     599\n",
      "3         0.500000     160\n",
      "4         0.944911     274\n"
     ]
    }
   ],
   "source": [
    "pearsonDF = pd.DataFrame.from_dict(pearsonCorrelationDict, orient='index')\n",
    "pearsonDF.columns = ['similarityIndex']\n",
    "pearsonDF['userId'] = pearsonDF.index\n",
    "pearsonDF.index = range(len(pearsonDF))\n",
    "print(pearsonDF.head())"
   ]
  },
  {
   "cell_type": "code",
   "execution_count": 9,
   "metadata": {},
   "outputs": [
    {
     "name": "stdout",
     "output_type": "stream",
     "text": [
      "    similarityIndex  userId\n",
      "0               1.0      43\n",
      "22              1.0     437\n",
      "19              1.0     373\n",
      "23              1.0     480\n",
      "24              1.0     492\n"
     ]
    }
   ],
   "source": [
    "topUsers=pearsonDF.sort_values(by='similarityIndex', ascending=False)[0:50]\n",
    "print(topUsers.head())"
   ]
  },
  {
   "cell_type": "code",
   "execution_count": 10,
   "metadata": {},
   "outputs": [
    {
     "name": "stdout",
     "output_type": "stream",
     "text": [
      "    similarityIndex  userId  movieId  rating  timestamp\n",
      "0               1.0      43        1     5.0  848993983\n",
      "1               1.0      43        3     5.0  848994405\n",
      "2               1.0      43        5     5.0  848994281\n",
      "3               1.0      43        7     5.0  848994392\n",
      "4               1.0      43        8     5.0  848994814\n",
      "..              ...     ...      ...     ...        ...\n",
      "95              1.0      43      595     5.0  848993693\n",
      "96              1.0      43      596     5.0  848994332\n",
      "97              1.0      43      597     5.0  848993817\n",
      "98              1.0      43      609     5.0  848994863\n",
      "99              1.0      43      610     5.0  848994332\n",
      "\n",
      "[100 rows x 5 columns]\n"
     ]
    }
   ],
   "source": [
    "topUsersRating=topUsers.merge(ratings_df, left_on='userId', right_on='userId', how='inner')\n",
    "print(topUsersRating.head(100))"
   ]
  },
  {
   "cell_type": "code",
   "execution_count": 11,
   "metadata": {},
   "outputs": [
    {
     "name": "stdout",
     "output_type": "stream",
     "text": [
      "   similarityIndex  userId  movieId  rating  timestamp  weightedRating\n",
      "0              1.0      43        1     5.0  848993983             5.0\n",
      "1              1.0      43        3     5.0  848994405             5.0\n",
      "2              1.0      43        5     5.0  848994281             5.0\n",
      "3              1.0      43        7     5.0  848994392             5.0\n",
      "4              1.0      43        8     5.0  848994814             5.0\n"
     ]
    }
   ],
   "source": [
    "topUsersRating['weightedRating'] = topUsersRating['similarityIndex']*topUsersRating['rating']\n",
    "print(topUsersRating.head())"
   ]
  },
  {
   "cell_type": "code",
   "execution_count": 12,
   "metadata": {},
   "outputs": [
    {
     "name": "stdout",
     "output_type": "stream",
     "text": [
      "         sum_similarityIndex  sum_weightedRating\n",
      "movieId                                         \n",
      "1                   9.778245           38.779645\n",
      "2                   5.778245           20.140522\n",
      "3                   5.333333           19.000000\n",
      "5                   4.500000           14.500000\n",
      "6                  10.278245           43.279645\n"
     ]
    }
   ],
   "source": [
    "tempTopUsersRating = topUsersRating.groupby('movieId').sum()[['similarityIndex','weightedRating']]\n",
    "tempTopUsersRating.columns = ['sum_similarityIndex','sum_weightedRating']\n",
    "print(tempTopUsersRating.head())"
   ]
  },
  {
   "cell_type": "code",
   "execution_count": 13,
   "metadata": {},
   "outputs": [
    {
     "name": "stdout",
     "output_type": "stream",
     "text": [
      "         weighted average recommendation score  movieId\n",
      "movieId                                                \n",
      "1                                     3.965911        1\n",
      "2                                     3.485578        2\n",
      "3                                     3.562500        3\n",
      "5                                     3.222222        5\n",
      "6                                     4.210801        6\n",
      "7                                     3.739130        7\n",
      "8                                     4.028325        8\n",
      "9                                     3.150000        9\n",
      "10                                    3.680350       10\n",
      "11                                    3.550000       11\n"
     ]
    }
   ],
   "source": [
    "recommendation_df = pd.DataFrame()\n",
    "recommendation_df['weighted average recommendation score'] = tempTopUsersRating['sum_weightedRating']/tempTopUsersRating['sum_similarityIndex']\n",
    "recommendation_df['movieId'] = tempTopUsersRating.index\n",
    "print(recommendation_df.head(10))"
   ]
  },
  {
   "cell_type": "code",
   "execution_count": 14,
   "metadata": {},
   "outputs": [
    {
     "name": "stdout",
     "output_type": "stream",
     "text": [
      "         weighted average recommendation score  movieId\n",
      "movieId                                                \n",
      "4450                                       5.0     4450\n",
      "238                                        5.0      238\n",
      "3677                                       5.0     3677\n",
      "84944                                      5.0    84944\n",
      "2394                                       5.0     2394\n",
      "...                                        ...      ...\n",
      "182715                                     NaN   182715\n",
      "184245                                     NaN   184245\n",
      "188675                                     NaN   188675\n",
      "188833                                     NaN   188833\n",
      "189381                                     NaN   189381\n",
      "\n",
      "[4993 rows x 2 columns]\n"
     ]
    }
   ],
   "source": [
    "recommendation_df = recommendation_df.sort_values(by='weighted average recommendation score', ascending=False)\n",
    "print(recommendation_df)"
   ]
  },
  {
   "cell_type": "code",
   "execution_count": 15,
   "metadata": {},
   "outputs": [
    {
     "name": "stdout",
     "output_type": "stream",
     "text": [
      "      movieId                                  title  \\\n",
      "0           1                       Toy Story (1995)   \n",
      "1           2                         Jumanji (1995)   \n",
      "2           3                Grumpier Old Men (1995)   \n",
      "4           5     Father of the Bride Part II (1995)   \n",
      "5           6                            Heat (1995)   \n",
      "...       ...                                    ...   \n",
      "9710   187595         Solo: A Star Wars Story (2018)   \n",
      "9713   188301            Ant-Man and the Wasp (2018)   \n",
      "9714   188675                          Dogman (2018)   \n",
      "9717   188833  The Man Who Killed Don Quixote (2018)   \n",
      "9721   189381                        SuperFly (2018)   \n",
      "\n",
      "                                           genres  \n",
      "0     Adventure|Animation|Children|Comedy|Fantasy  \n",
      "1                      Adventure|Children|Fantasy  \n",
      "2                                  Comedy|Romance  \n",
      "4                                          Comedy  \n",
      "5                           Action|Crime|Thriller  \n",
      "...                                           ...  \n",
      "9710             Action|Adventure|Children|Sci-Fi  \n",
      "9713       Action|Adventure|Comedy|Fantasy|Sci-Fi  \n",
      "9714                                  Crime|Drama  \n",
      "9717                     Adventure|Comedy|Fantasy  \n",
      "9721                        Action|Crime|Thriller  \n",
      "\n",
      "[4988 rows x 3 columns]\n"
     ]
    }
   ],
   "source": [
    "recommended_movie=movies_df.loc[movies_df['movieId'].isin(recommendation_df['movieId'])]\n",
    "recommended_movie=recommended_movie.loc[~recommended_movie.movieId.isin(userSubset['movieId'])]\n",
    "print(recommended_movie)"
   ]
  }
 ],
 "metadata": {
  "kernelspec": {
   "display_name": "Python 3",
   "language": "python",
   "name": "python3"
  },
  "language_info": {
   "codemirror_mode": {
    "name": "ipython",
    "version": 3
   },
   "file_extension": ".py",
   "mimetype": "text/x-python",
   "name": "python",
   "nbconvert_exporter": "python",
   "pygments_lexer": "ipython3",
   "version": "3.11.0"
  }
 },
 "nbformat": 4,
 "nbformat_minor": 2
}
